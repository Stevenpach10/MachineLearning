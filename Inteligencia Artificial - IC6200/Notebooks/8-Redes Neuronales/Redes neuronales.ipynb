{
 "cells": [
  {
   "cell_type": "markdown",
   "metadata": {},
   "source": [
    "# Redes neuronales - PyTorch\n"
   ]
  },
  {
   "cell_type": "code",
   "execution_count": 10,
   "metadata": {},
   "outputs": [],
   "source": [
    "import torch\n",
    "# Base class for all neural network modules.\n",
    "import torch.nn as nn\n",
    "import torch.optim as optim\n",
    "from torchvision import datasets, transforms\n",
    "from torch.utils.data import DataLoader\n",
    "import matplotlib.pyplot as plt\n"
   ]
  },
  {
   "cell_type": "markdown",
   "metadata": {},
   "source": [
    "## Modelo"
   ]
  },
  {
   "cell_type": "code",
   "execution_count": 11,
   "metadata": {},
   "outputs": [],
   "source": [
    "class FullyConnectedNN(nn.Module):\n",
    "    def __init__(self, input_size):\n",
    "        super(FullyConnectedNN, self).__init__()\n",
    "        #Defino las capas que voy a utilizar en mi modulo.\n",
    "        self.flatten = nn.Flatten()\n",
    "        self.fc1 = nn.Linear(input_size[0]*input_size[1], 128) # Input size: 28*28, Output Size: 128\n",
    "        self.relu = nn.ReLU() # Activation Function!!! \n",
    "        self.fc2 = nn.Linear(self.fc1.out_features, 64) #Input Size: 128, Output Size: 64\n",
    "        self.fc3 = nn.Linear(self.fc2.out_features, 10) #Input size: 64, Output Size: 10 (Clases de MNIST)\n",
    "\n",
    "    def forward(self, x):\n",
    "        x = self.flatten(x)\n",
    "        x = self.fc1(x)\n",
    "        x = self.relu(x)\n",
    "        x = self.fc2(x)\n",
    "        x = self.relu(x)\n",
    "        x = self.fc3(x)\n",
    "        return x"
   ]
  },
  {
   "cell_type": "markdown",
   "metadata": {},
   "source": [
    "## Hyper-parameters"
   ]
  },
  {
   "cell_type": "code",
   "execution_count": 12,
   "metadata": {},
   "outputs": [],
   "source": [
    "# Define training parameters\n",
    "batch_size = 64\n",
    "learning_rate = 0.001\n",
    "num_epochs = 10"
   ]
  },
  {
   "cell_type": "markdown",
   "metadata": {},
   "source": [
    "## Download dataset"
   ]
  },
  {
   "cell_type": "code",
   "execution_count": 13,
   "metadata": {},
   "outputs": [],
   "source": [
    "# Download and load the MNIST dataset\n",
    "transform = transforms.Compose([\n",
    "    transforms.ToTensor(),\n",
    "    transforms.Normalize((0.5,), (0.5,))\n",
    "])\n",
    "\n",
    "train_dataset = datasets.MNIST(root='./data', train=True, transform=transform, download=True)\n",
    "# Data loader. Combines a dataset and a sampler, and provides an iterable over\n",
    "# the given dataset.\n",
    "train_loader = DataLoader(dataset=train_dataset, batch_size=batch_size, shuffle=True)\n",
    "\n",
    "test_dataset = datasets.MNIST(root='./data', train=False, transform=transform, download=True)\n",
    "# Data loader. Combines a dataset and a sampler, and provides an iterable over\n",
    "# the given dataset.\n",
    "test_loader = DataLoader(dataset=test_dataset, batch_size=batch_size, shuffle=True)\n"
   ]
  },
  {
   "cell_type": "markdown",
   "metadata": {},
   "source": [
    "## Initialize Model"
   ]
  },
  {
   "cell_type": "code",
   "execution_count": 14,
   "metadata": {},
   "outputs": [
    {
     "name": "stdout",
     "output_type": "stream",
     "text": [
      "Layer: fc1.weight | Size: torch.Size([128, 784]) | Values : tensor([[-0.0126,  0.0086,  0.0140,  ..., -0.0081,  0.0127, -0.0089],\n",
      "        [-0.0136,  0.0137, -0.0093,  ..., -0.0158,  0.0049,  0.0354]],\n",
      "       grad_fn=<SliceBackward0>)\n",
      "Layer: fc1.bias | Size: torch.Size([128]) | Values : tensor([-0.0126, -0.0357], grad_fn=<SliceBackward0>)\n",
      "Layer: fc2.weight | Size: torch.Size([64, 128]) | Values : tensor([[-3.4736e-02, -3.4618e-02,  7.4928e-02,  8.5341e-02, -2.4439e-02,\n",
      "         -1.4572e-02, -5.4904e-02, -7.5965e-03,  1.2583e-02,  8.0260e-02,\n",
      "         -8.7002e-03, -7.8088e-02,  8.3025e-02,  3.8864e-02,  2.9282e-02,\n",
      "         -8.9568e-03, -2.0643e-02, -6.4351e-02,  4.1175e-02, -6.4428e-02,\n",
      "         -1.9222e-02, -4.3148e-02,  6.6711e-02,  6.1394e-02,  4.7945e-02,\n",
      "          6.2842e-02, -6.1744e-02, -2.2879e-02,  1.1517e-02,  2.1212e-02,\n",
      "         -6.3188e-02, -1.9772e-02,  7.2566e-02,  6.5539e-02, -8.3213e-04,\n",
      "          7.6689e-02,  2.9882e-02,  7.9124e-02,  2.3328e-02, -2.3418e-02,\n",
      "         -9.7726e-03,  3.9991e-02, -1.2432e-02,  1.1029e-02,  1.8367e-02,\n",
      "          5.4143e-02,  1.6317e-02, -6.0540e-02,  1.3227e-02,  2.6203e-02,\n",
      "         -2.2100e-03, -8.5242e-02, -2.9108e-02,  1.5710e-02, -6.5209e-02,\n",
      "         -1.4458e-02, -5.0701e-02,  7.7019e-02,  2.2681e-02, -1.7087e-02,\n",
      "          3.2209e-02,  6.6721e-02,  2.8914e-02, -4.7863e-02, -8.1483e-02,\n",
      "         -5.1825e-02, -1.1612e-02, -3.4741e-02, -4.5241e-03,  5.8831e-02,\n",
      "         -1.9804e-02,  4.5306e-02, -2.2310e-03, -7.2664e-02,  1.2297e-02,\n",
      "          8.2136e-02,  1.1263e-02,  1.8711e-02, -1.2008e-02, -6.6683e-02,\n",
      "          4.0053e-02, -5.3570e-02, -8.6576e-02, -3.1593e-02,  7.5478e-02,\n",
      "          1.4056e-02, -7.5676e-02, -5.7256e-02, -2.3120e-03, -4.9057e-02,\n",
      "         -4.2655e-02,  2.5229e-02, -2.7651e-02,  8.3040e-02, -3.2406e-02,\n",
      "          5.2162e-02,  2.8960e-02,  6.9051e-02,  8.0586e-02,  7.5156e-02,\n",
      "          1.2730e-02, -5.5774e-02,  3.3453e-02,  8.4091e-02, -3.8062e-02,\n",
      "          4.3427e-02,  8.1195e-02,  6.8201e-02, -7.4371e-02, -7.9096e-02,\n",
      "         -9.1004e-04,  1.5848e-02,  8.1840e-02, -2.0324e-02,  4.9481e-03,\n",
      "         -4.3626e-03,  4.2767e-02, -3.9666e-03, -8.5051e-02, -3.2843e-02,\n",
      "         -5.1492e-03,  4.4900e-02, -4.2623e-02,  2.8449e-02,  5.7173e-03,\n",
      "          6.6978e-02, -3.5926e-02,  5.1518e-02],\n",
      "        [ 6.7640e-02, -2.1103e-02, -6.2381e-02, -5.5596e-02,  1.5715e-02,\n",
      "         -1.2720e-02,  6.6668e-02, -8.6287e-02, -5.0803e-02,  1.6161e-02,\n",
      "          9.8137e-03, -3.4809e-02, -2.3780e-02, -8.4201e-03, -3.5781e-03,\n",
      "          8.3228e-02, -6.4592e-03, -6.9787e-02, -3.0210e-02, -2.3433e-02,\n",
      "         -8.2612e-04, -7.7253e-02, -3.6595e-02, -7.3266e-02,  2.9198e-02,\n",
      "         -3.1902e-02,  3.6196e-02,  7.2760e-02,  5.9724e-02,  4.0032e-02,\n",
      "         -7.0880e-02,  5.2065e-02, -8.6040e-03, -3.1451e-02,  3.7967e-03,\n",
      "         -6.7507e-02,  7.4645e-02, -6.7875e-03,  8.6085e-02, -8.1242e-02,\n",
      "          1.8084e-02,  4.3679e-02, -1.7107e-02,  3.6253e-02,  7.6986e-02,\n",
      "         -2.7349e-02,  6.8383e-02, -1.4410e-02, -1.4645e-02, -4.5695e-02,\n",
      "         -7.5112e-02,  2.2992e-02, -3.8752e-02, -6.6574e-02,  4.0763e-02,\n",
      "         -1.7896e-02, -7.6456e-02, -1.0381e-02,  2.4823e-02,  7.4491e-05,\n",
      "          8.8069e-02,  2.7433e-02, -6.1821e-02,  2.4321e-02, -5.1350e-02,\n",
      "         -5.3090e-02, -6.1281e-02, -3.3012e-02, -4.4745e-02, -6.2679e-02,\n",
      "         -4.9875e-02,  7.8202e-02, -5.8661e-02, -7.3042e-02, -3.2877e-02,\n",
      "         -6.1950e-02, -6.0330e-03,  2.5221e-02,  8.1560e-02,  7.7141e-02,\n",
      "          6.7529e-02,  5.6702e-02, -4.9530e-02, -3.0986e-02,  5.3322e-02,\n",
      "          5.6341e-02, -4.5518e-02, -3.3009e-02,  5.6155e-02, -4.2207e-02,\n",
      "         -3.0315e-02, -6.5626e-02, -1.4553e-02,  6.0261e-02,  4.9632e-02,\n",
      "          6.3219e-02,  4.6988e-02, -8.7830e-02, -7.0065e-02,  4.0464e-02,\n",
      "         -3.1396e-02, -6.2064e-02,  7.8306e-02,  3.9869e-02, -8.2689e-02,\n",
      "         -4.7601e-02,  3.7337e-02,  8.0192e-03, -7.1690e-02,  5.1134e-02,\n",
      "          7.0854e-02,  6.6756e-03, -8.1701e-02,  7.3991e-02,  5.0567e-02,\n",
      "         -5.3664e-02, -8.4213e-02, -6.6845e-02,  7.0332e-02,  2.8462e-02,\n",
      "          6.0303e-02, -5.5244e-02,  7.2483e-02, -1.7972e-02,  3.0023e-02,\n",
      "         -6.1878e-02, -6.6542e-02, -1.5904e-02]], grad_fn=<SliceBackward0>)\n",
      "Layer: fc2.bias | Size: torch.Size([64]) | Values : tensor([-0.0320, -0.0603], grad_fn=<SliceBackward0>)\n",
      "Layer: fc3.weight | Size: torch.Size([10, 64]) | Values : tensor([[ 0.0584,  0.0378,  0.0760, -0.0872, -0.1162,  0.0658,  0.0199,  0.0136,\n",
      "         -0.0630, -0.0314, -0.0980, -0.0656,  0.0843,  0.1033,  0.1007,  0.1034,\n",
      "         -0.1197,  0.0073, -0.0025,  0.1109, -0.0301, -0.0506, -0.0490, -0.1134,\n",
      "          0.0050, -0.1029, -0.0352, -0.0924,  0.0086,  0.1074, -0.0267, -0.0633,\n",
      "          0.1105,  0.0077, -0.1083, -0.0073,  0.1123, -0.0922,  0.0370, -0.0047,\n",
      "          0.0926, -0.0653,  0.0355, -0.0550, -0.0066, -0.0386, -0.0034,  0.1116,\n",
      "         -0.1120, -0.0888,  0.0076, -0.0079, -0.1147, -0.1172, -0.0023, -0.0567,\n",
      "         -0.0394, -0.0362,  0.1054, -0.1165, -0.1094, -0.1051,  0.0445,  0.1067],\n",
      "        [ 0.1016, -0.0007,  0.0291,  0.0797,  0.0495,  0.0884, -0.0796,  0.1156,\n",
      "         -0.0938, -0.1110,  0.1213, -0.0405, -0.0348, -0.1203, -0.1156,  0.0087,\n",
      "         -0.1158, -0.0627, -0.0798,  0.1088, -0.0799, -0.1027, -0.0558, -0.0008,\n",
      "         -0.1020,  0.0855,  0.0612, -0.0992,  0.0082,  0.0828,  0.0986, -0.0697,\n",
      "          0.0572, -0.0387,  0.0179, -0.0702,  0.0882,  0.0970,  0.0814,  0.0526,\n",
      "         -0.0063, -0.0573,  0.0572, -0.0599, -0.0918, -0.0309, -0.1223, -0.0684,\n",
      "         -0.1038,  0.0156,  0.0324, -0.0970,  0.0651, -0.0011,  0.0463,  0.0493,\n",
      "          0.0746,  0.0648,  0.0138,  0.0702,  0.0017,  0.0252,  0.0928,  0.0261]],\n",
      "       grad_fn=<SliceBackward0>)\n",
      "Layer: fc3.bias | Size: torch.Size([10]) | Values : tensor([-0.0897, -0.0096], grad_fn=<SliceBackward0>)\n"
     ]
    }
   ],
   "source": [
    "# Initialize the model, loss function, and optimizer\n",
    "model = FullyConnectedNN(input_size=(28, 28))\n",
    "\n",
    "# Print the parameters of the model\n",
    "for name, param in model.named_parameters():\n",
    "    print(f\"Layer: {name} | Size: {param.size()} | Values : {param[:2]}\")\n",
    "\n",
    "criterion = nn.CrossEntropyLoss()\n",
    "optimizer = optim.Adam(model.parameters(), lr=learning_rate)\n"
   ]
  },
  {
   "cell_type": "code",
   "execution_count": 17,
   "metadata": {},
   "outputs": [
    {
     "name": "stdout",
     "output_type": "stream",
     "text": [
      "Epoch [1/10], Step [1/938], Loss: 0.0486\n",
      "Epoch [1/10], Step [101/938], Loss: 0.1272\n",
      "Epoch [1/10], Step [201/938], Loss: 0.0307\n",
      "Epoch [1/10], Step [301/938], Loss: 0.0771\n",
      "Epoch [1/10], Step [401/938], Loss: 0.0528\n",
      "Epoch [1/10], Step [501/938], Loss: 0.1117\n",
      "Epoch [1/10], Step [601/938], Loss: 0.0320\n",
      "Epoch [1/10], Step [701/938], Loss: 0.0468\n",
      "Epoch [1/10], Step [801/938], Loss: 0.4075\n",
      "Epoch [1/10], Step [901/938], Loss: 0.0940\n",
      "Epoch [1/10], Train Loss: 0.0528, Test Loss: 0.1002, Accuracy: 97.20%\n",
      "Epoch [2/10], Step [1/938], Loss: 0.0228\n",
      "Epoch [2/10], Step [101/938], Loss: 0.0342\n",
      "Epoch [2/10], Step [201/938], Loss: 0.0661\n",
      "Epoch [2/10], Step [301/938], Loss: 0.0272\n",
      "Epoch [2/10], Step [401/938], Loss: 0.0810\n",
      "Epoch [2/10], Step [501/938], Loss: 0.0533\n",
      "Epoch [2/10], Step [601/938], Loss: 0.0304\n",
      "Epoch [2/10], Step [701/938], Loss: 0.0179\n",
      "Epoch [2/10], Step [801/938], Loss: 0.1817\n",
      "Epoch [2/10], Step [901/938], Loss: 0.0969\n",
      "Epoch [2/10], Train Loss: 0.0476, Test Loss: 0.1007, Accuracy: 96.90%\n",
      "Epoch [3/10], Step [1/938], Loss: 0.0082\n",
      "Epoch [3/10], Step [101/938], Loss: 0.0092\n",
      "Epoch [3/10], Step [201/938], Loss: 0.0260\n",
      "Epoch [3/10], Step [301/938], Loss: 0.0309\n",
      "Epoch [3/10], Step [401/938], Loss: 0.0152\n",
      "Epoch [3/10], Step [501/938], Loss: 0.0056\n",
      "Epoch [3/10], Step [601/938], Loss: 0.0269\n",
      "Epoch [3/10], Step [701/938], Loss: 0.0188\n",
      "Epoch [3/10], Step [801/938], Loss: 0.0625\n",
      "Epoch [3/10], Step [901/938], Loss: 0.0697\n",
      "Epoch [3/10], Train Loss: 0.0439, Test Loss: 0.1023, Accuracy: 97.18%\n",
      "Epoch [4/10], Step [1/938], Loss: 0.1139\n",
      "Epoch [4/10], Step [101/938], Loss: 0.0047\n",
      "Epoch [4/10], Step [201/938], Loss: 0.0020\n",
      "Epoch [4/10], Step [301/938], Loss: 0.0120\n",
      "Epoch [4/10], Step [401/938], Loss: 0.0351\n",
      "Epoch [4/10], Step [501/938], Loss: 0.0314\n",
      "Epoch [4/10], Step [601/938], Loss: 0.1184\n",
      "Epoch [4/10], Step [701/938], Loss: 0.0630\n",
      "Epoch [4/10], Step [801/938], Loss: 0.0032\n",
      "Epoch [4/10], Step [901/938], Loss: 0.2068\n",
      "Epoch [4/10], Train Loss: 0.0428, Test Loss: 0.0939, Accuracy: 97.59%\n",
      "Epoch [5/10], Step [1/938], Loss: 0.1847\n",
      "Epoch [5/10], Step [101/938], Loss: 0.0114\n",
      "Epoch [5/10], Step [201/938], Loss: 0.0040\n",
      "Epoch [5/10], Step [301/938], Loss: 0.0047\n",
      "Epoch [5/10], Step [401/938], Loss: 0.0418\n",
      "Epoch [5/10], Step [501/938], Loss: 0.0054\n",
      "Epoch [5/10], Step [601/938], Loss: 0.0231\n",
      "Epoch [5/10], Step [701/938], Loss: 0.0146\n",
      "Epoch [5/10], Step [801/938], Loss: 0.3268\n",
      "Epoch [5/10], Step [901/938], Loss: 0.0278\n",
      "Epoch [5/10], Train Loss: 0.0406, Test Loss: 0.1092, Accuracy: 97.11%\n",
      "Epoch [6/10], Step [1/938], Loss: 0.0273\n",
      "Epoch [6/10], Step [101/938], Loss: 0.0527\n",
      "Epoch [6/10], Step [201/938], Loss: 0.0462\n",
      "Epoch [6/10], Step [301/938], Loss: 0.0864\n",
      "Epoch [6/10], Step [401/938], Loss: 0.0377\n",
      "Epoch [6/10], Step [501/938], Loss: 0.0438\n",
      "Epoch [6/10], Step [601/938], Loss: 0.0079\n",
      "Epoch [6/10], Step [701/938], Loss: 0.0741\n",
      "Epoch [6/10], Step [801/938], Loss: 0.0039\n",
      "Epoch [6/10], Step [901/938], Loss: 0.0410\n",
      "Epoch [6/10], Train Loss: 0.0358, Test Loss: 0.0908, Accuracy: 97.56%\n",
      "Epoch [7/10], Step [1/938], Loss: 0.0167\n",
      "Epoch [7/10], Step [101/938], Loss: 0.0076\n",
      "Epoch [7/10], Step [201/938], Loss: 0.0748\n",
      "Epoch [7/10], Step [301/938], Loss: 0.0052\n",
      "Epoch [7/10], Step [401/938], Loss: 0.0184\n",
      "Epoch [7/10], Step [501/938], Loss: 0.0600\n",
      "Epoch [7/10], Step [601/938], Loss: 0.0181\n",
      "Epoch [7/10], Step [701/938], Loss: 0.0043\n",
      "Epoch [7/10], Step [801/938], Loss: 0.0135\n",
      "Epoch [7/10], Step [901/938], Loss: 0.0031\n",
      "Epoch [7/10], Train Loss: 0.0345, Test Loss: 0.1114, Accuracy: 97.31%\n",
      "Epoch [8/10], Step [1/938], Loss: 0.0968\n",
      "Epoch [8/10], Step [101/938], Loss: 0.0247\n",
      "Epoch [8/10], Step [201/938], Loss: 0.0304\n",
      "Epoch [8/10], Step [301/938], Loss: 0.0985\n",
      "Epoch [8/10], Step [401/938], Loss: 0.0488\n",
      "Epoch [8/10], Step [501/938], Loss: 0.0609\n",
      "Epoch [8/10], Step [601/938], Loss: 0.0084\n",
      "Epoch [8/10], Step [701/938], Loss: 0.0330\n",
      "Epoch [8/10], Step [801/938], Loss: 0.0124\n",
      "Epoch [8/10], Step [901/938], Loss: 0.0560\n",
      "Epoch [8/10], Train Loss: 0.0341, Test Loss: 0.0999, Accuracy: 97.50%\n",
      "Epoch [9/10], Step [1/938], Loss: 0.0058\n",
      "Epoch [9/10], Step [101/938], Loss: 0.0041\n",
      "Epoch [9/10], Step [201/938], Loss: 0.0165\n",
      "Epoch [9/10], Step [301/938], Loss: 0.0125\n",
      "Epoch [9/10], Step [401/938], Loss: 0.0243\n",
      "Epoch [9/10], Step [501/938], Loss: 0.0312\n",
      "Epoch [9/10], Step [601/938], Loss: 0.0139\n",
      "Epoch [9/10], Step [701/938], Loss: 0.0184\n",
      "Epoch [9/10], Step [801/938], Loss: 0.0217\n",
      "Epoch [9/10], Step [901/938], Loss: 0.0075\n",
      "Epoch [9/10], Train Loss: 0.0313, Test Loss: 0.1140, Accuracy: 97.42%\n",
      "Epoch [10/10], Step [1/938], Loss: 0.0082\n",
      "Epoch [10/10], Step [101/938], Loss: 0.0090\n",
      "Epoch [10/10], Step [201/938], Loss: 0.0230\n",
      "Epoch [10/10], Step [301/938], Loss: 0.0140\n",
      "Epoch [10/10], Step [401/938], Loss: 0.0316\n",
      "Epoch [10/10], Step [501/938], Loss: 0.0517\n",
      "Epoch [10/10], Step [601/938], Loss: 0.0322\n",
      "Epoch [10/10], Step [701/938], Loss: 0.0073\n",
      "Epoch [10/10], Step [801/938], Loss: 0.0045\n",
      "Epoch [10/10], Step [901/938], Loss: 0.0156\n",
      "Epoch [10/10], Train Loss: 0.0291, Test Loss: 0.1073, Accuracy: 97.34%\n"
     ]
    }
   ],
   "source": [
    "\n",
    "# Lists to store training and validation losses\n",
    "train_losses = []\n",
    "test_losses = []\n",
    "# Training loop\n",
    "for epoch in range(num_epochs):\n",
    "    model.eval()  \n",
    "    test_loss = 0.0\n",
    "    correct = 0\n",
    "    total = 0\n",
    "    # No es necesario calcular gradientes\n",
    "    with torch.no_grad():\n",
    "        for batch_idx, (data, targets) in enumerate(test_loader):\n",
    "            outputs = model(data)\n",
    "            loss = criterion(outputs, targets)\n",
    "            test_loss += loss.item()\n",
    "            \n",
    "            _, predicted = torch.max(outputs, 1)\n",
    "            total += targets.size(0)\n",
    "            correct += (predicted == targets).sum().item()\n",
    "\n",
    "    avg_test_loss = test_loss / len(test_loader)\n",
    "    accuracy = correct / total\n",
    "    test_losses.append(avg_test_loss)\n",
    "    model.train()  # Set model to training mode\n",
    "    train_loss = 0\n",
    "    for batch_idx, (data, targets) in enumerate(train_loader):\n",
    "        # Forward pass\n",
    "        outputs = model(data)\n",
    "        loss = criterion(outputs, targets)\n",
    "\n",
    "        # Coloca el gradiente del optimizador en zero\n",
    "        # Calcula las derivadas parciales (gradientes) de cada parametro a optimizar\n",
    "        # Finalmente hace la actualización de parametros.\n",
    "        optimizer.zero_grad()\n",
    "        loss.backward()\n",
    "        optimizer.step()\n",
    "        \n",
    "        train_loss += loss.item()\n",
    "        \n",
    "        if batch_idx % 100 == 0:\n",
    "            print(f'Epoch [{epoch+1}/{num_epochs}], Step [{batch_idx+1}/{len(train_loader)}], Loss: {loss.item():.4f}')\n",
    "    \n",
    "    train_losses.append(train_loss / len(train_loader))\n",
    "\n",
    "    print(f'Epoch [{epoch+1}/{num_epochs}], Train Loss: {train_losses[-1]:.4f}, Test Loss: {avg_test_loss:.4f}, Accuracy: {accuracy:.2%}')\n"
   ]
  },
  {
   "cell_type": "code",
   "execution_count": 16,
   "metadata": {},
   "outputs": [
    {
     "data": {
      "image/png": "[encoded data removed]",
      "text/plain": [
       "<Figure size 1000x500 with 1 Axes>"
      ]
     },
     "metadata": {},
     "output_type": "display_data"
    },
    {
     "name": "stdout",
     "output_type": "stream",
     "text": [
      "Training finished!\n"
     ]
    }
   ],
   "source": [
    "\n",
    "plt.figure(figsize=(10, 5))\n",
    "plt.plot(range(1, num_epochs+1), train_losses, label='Train Loss')\n",
    "plt.plot(range(1, num_epochs+1), test_losses, label='Test Loss')\n",
    "plt.xlabel('Epoch')\n",
    "plt.ylabel('Loss')\n",
    "plt.title('Training and Validation Losses')\n",
    "plt.legend()\n",
    "plt.show()\n",
    "\n",
    "print('Training finished!')"
   ]
  },
  {
   "cell_type": "code",
   "execution_count": 18,
   "metadata": {},
   "outputs": [],
   "source": [
    "# Save model state\n",
    "torch.save({\n",
    "    'epoch': epoch,\n",
    "    'model_state_dict': model.state_dict(),\n",
    "    'optimizer_state_dict': optimizer.state_dict(),\n",
    "    'loss': loss,\n",
    "}, 'model_checkpoint.pth')"
   ]
  },
  {
   "cell_type": "code",
   "execution_count": 26,
   "metadata": {},
   "outputs": [
    {
     "name": "stdout",
     "output_type": "stream",
     "text": [
      "Accuracy: 0.132\n"
     ]
    }
   ],
   "source": [
    "model = FullyConnectedNN(input_size=(28, 28))\n",
    "model.eval()  \n",
    "test_loss = 0.0\n",
    "correct = 0\n",
    "total = 0\n",
    "# No es necesario calcular gradientes\n",
    "with torch.no_grad():\n",
    "    for batch_idx, (data, targets) in enumerate(test_loader):\n",
    "        outputs = model(data)\n",
    "        loss = criterion(outputs, targets)\n",
    "        test_loss += loss.item()\n",
    "        \n",
    "        _, predicted = torch.max(outputs, 1)\n",
    "        total += targets.size(0)\n",
    "        correct += (predicted == targets).sum().item()\n",
    "\n",
    "avg_test_loss = test_loss / len(test_loader)\n",
    "accuracy = correct / total\n",
    "print(f\"Accuracy: {accuracy}\")"
   ]
  },
  {
   "cell_type": "code",
   "execution_count": 27,
   "metadata": {},
   "outputs": [],
   "source": [
    "# Load saved model parameters\n",
    "checkpoint = torch.load('model_checkpoint.pth')\n",
    "model.load_state_dict(checkpoint['model_state_dict'])\n",
    "optimizer.load_state_dict(checkpoint['optimizer_state_dict'])\n",
    "epoch = checkpoint['epoch']\n",
    "loss = checkpoint['loss']"
   ]
  },
  {
   "cell_type": "code",
   "execution_count": 28,
   "metadata": {},
   "outputs": [
    {
     "name": "stdout",
     "output_type": "stream",
     "text": [
      "Accuracy: 0.9717\n"
     ]
    }
   ],
   "source": [
    "model.eval()  \n",
    "test_loss = 0.0\n",
    "correct = 0\n",
    "total = 0\n",
    "# No es necesario calcular gradientes\n",
    "with torch.no_grad():\n",
    "    for batch_idx, (data, targets) in enumerate(test_loader):\n",
    "        outputs = model(data)\n",
    "        loss = criterion(outputs, targets)\n",
    "        test_loss += loss.item()\n",
    "        \n",
    "        _, predicted = torch.max(outputs, 1)\n",
    "        total += targets.size(0)\n",
    "        correct += (predicted == targets).sum().item()\n",
    "\n",
    "avg_test_loss = test_loss / len(test_loader)\n",
    "accuracy = correct / total\n",
    "print(f\"Accuracy: {accuracy}\")"
   ]
  }
 ],
 "metadata": {
  "kernelspec": {
   "display_name": "ML",
   "language": "python",
   "name": "python3"
  },
  "language_info": {
   "codemirror_mode": {
    "name": "ipython",
    "version": 3
   },
   "file_extension": ".py",
   "mimetype": "text/x-python",
   "name": "python",
   "nbconvert_exporter": "python",
   "pygments_lexer": "ipython3",
   "version": "3.10.8"
  }
 },
 "nbformat": 4,
 "nbformat_minor": 2
}
