{
 "cells": [
  {
   "cell_type": "code",
   "execution_count": 23,
   "metadata": {
    "metadata": {}
   },
   "outputs": [],
   "source": [
    "import torch\n",
    "import torch.nn as nn\n",
    "import torch.optim as optim\n",
    "import torchvision\n",
    "import torchvision.transforms as transforms\n",
    "import numpy as np"
   ]
  },
  {
   "cell_type": "code",
   "execution_count": 24,
   "metadata": {
    "metadata": {}
   },
   "outputs": [],
   "source": [
    "# Definir la arquitectura de la CNN\n",
    "class CNN(nn.Module):\n",
    "    def __init__(self):\n",
    "        super(CNN, self).__init__()\n",
    "        #Canales de entrada, Canales de salida, Tamaño de Kernel, Stride y Padding\n",
    "        self.conv1 = nn.Conv2d(3, 16, 3, 1, 1)\n",
    "        self.conv2 = nn.Conv2d(16, 64, 3, 1, 1) \n",
    "        self.conv3 = nn.Conv2d(64, 128, 3, 1, 1)\n",
    "        self.dropout = nn.Dropout(0.2)\n",
    "        self.fc1 = nn.Linear(128 * 4 * 4, 512) \n",
    "        self.fc2 = nn.Linear(512, 256)\n",
    "        self.fc3 = nn.Linear(256, 10)\n",
    "\n",
    "    def forward(self, x):\n",
    "        #Entrada (batch, channels, ancho, largo)\n",
    "        # (64, 3, 32, 32)\n",
    "        x = torch.relu(self.conv1(x))\n",
    "        x = torch.max_pool2d(x, 2, 2) # No es una capa aprendible. (feature_maps, stride, padding)\n",
    "        # (64, 16, 16, 16)\n",
    "        x = torch.relu(self.conv2(x))\n",
    "        x = torch.max_pool2d(x, 2, 2)\n",
    "        # (64, 64, 8, 8)\n",
    "        x = torch.relu(self.conv3(x))\n",
    "        x = self.dropout(x)\n",
    "        x = torch.max_pool2d(x, 2, 2)\n",
    "        # (64, 128, 4, 4)\n",
    "        x = x.view(-1, 128 * 4 * 4)\n",
    "        # (64, 2048)\n",
    "        x = torch.relu(self.fc1(x))\n",
    "        x = torch.relu(self.fc2(x))\n",
    "        x = self.fc3(x)\n",
    "        return x"
   ]
  },
  {
   "cell_type": "code",
   "execution_count": 25,
   "metadata": {
    "metadata": {}
   },
   "outputs": [
    {
     "name": "stdout",
     "output_type": "stream",
     "text": [
      "Files already downloaded and verified\n",
      "Files already downloaded and verified\n"
     ]
    }
   ],
   "source": [
    "\n",
    "\n",
    "# Descargar y cargar el conjunto de datos CIFAR-10\n",
    "transform = transforms.Compose([\n",
    "    transforms.ToTensor(),\n",
    "    transforms.RandomRotation(45),\n",
    "    transforms.Normalize((0.5, 0.5, 0.5), (0.5, 0.5, 0.5))\n",
    "])\n",
    "\n",
    "trainset = torchvision.datasets.CIFAR10(root='./data', train=True, download=True, transform=transform)\n",
    "#Iterable del dataset\n",
    "trainloader = torch.utils.data.DataLoader(trainset, batch_size=64, shuffle=True)\n",
    "\n",
    "testset = torchvision.datasets.CIFAR10(root='./data', train=False, download=True, transform=transform)\n",
    "#Iterable del dataset\n",
    "testloader = torch.utils.data.DataLoader(testset, batch_size=64, shuffle=False)"
   ]
  },
  {
   "cell_type": "code",
   "execution_count": 26,
   "metadata": {
    "metadata": {}
   },
   "outputs": [
    {
     "name": "stdout",
     "output_type": "stream",
     "text": [
      "Is Torch Cuda Available? True\n"
     ]
    }
   ],
   "source": [
    "device = torch.device(\"cuda\" if torch.cuda.is_available() else \"cpu\")\n",
    "print(\"Is Torch Cuda Available? \" + str(torch.cuda.is_available()))"
   ]
  },
  {
   "cell_type": "code",
   "execution_count": 27,
   "metadata": {},
   "outputs": [
    {
     "name": "stdout",
     "output_type": "stream",
     "text": [
      "[1,   200] loss: 1.937\n",
      "[1,   400] loss: 1.663\n",
      "[1,   600] loss: 1.569\n",
      "[2,   200] loss: 1.429\n",
      "[2,   400] loss: 1.384\n",
      "[2,   600] loss: 1.339\n",
      "[3,   200] loss: 1.266\n",
      "[3,   400] loss: 1.223\n",
      "[3,   600] loss: 1.213\n",
      "[4,   200] loss: 1.143\n",
      "[4,   400] loss: 1.131\n",
      "[4,   600] loss: 1.103\n",
      "[5,   200] loss: 1.057\n",
      "[5,   400] loss: 1.046\n",
      "[5,   600] loss: 1.047\n",
      "[6,   200] loss: 0.995\n",
      "[6,   400] loss: 0.988\n",
      "[6,   600] loss: 0.983\n",
      "[7,   200] loss: 0.928\n",
      "[7,   400] loss: 0.939\n",
      "[7,   600] loss: 0.928\n",
      "[8,   200] loss: 0.878\n",
      "[8,   400] loss: 0.889\n",
      "[8,   600] loss: 0.875\n",
      "[9,   200] loss: 0.856\n",
      "[9,   400] loss: 0.854\n",
      "[9,   600] loss: 0.845\n",
      "[10,   200] loss: 0.846\n",
      "[10,   400] loss: 0.794\n",
      "[10,   600] loss: 0.809\n",
      "[11,   200] loss: 0.779\n",
      "[11,   400] loss: 0.772\n",
      "[11,   600] loss: 0.788\n",
      "[12,   200] loss: 0.755\n",
      "[12,   400] loss: 0.742\n",
      "[12,   600] loss: 0.755\n",
      "[13,   200] loss: 0.710\n",
      "[13,   400] loss: 0.730\n",
      "[13,   600] loss: 0.722\n",
      "[14,   200] loss: 0.686\n",
      "[14,   400] loss: 0.702\n",
      "[14,   600] loss: 0.687\n",
      "[15,   200] loss: 0.668\n",
      "[15,   400] loss: 0.681\n",
      "[15,   600] loss: 0.677\n",
      "[16,   200] loss: 0.649\n",
      "[16,   400] loss: 0.671\n",
      "[16,   600] loss: 0.644\n",
      "[17,   200] loss: 0.629\n",
      "[17,   400] loss: 0.635\n",
      "[17,   600] loss: 0.637\n",
      "[18,   200] loss: 0.606\n",
      "[18,   400] loss: 0.602\n",
      "[18,   600] loss: 0.630\n",
      "[19,   200] loss: 0.590\n",
      "[19,   400] loss: 0.595\n",
      "[19,   600] loss: 0.589\n",
      "[20,   200] loss: 0.572\n",
      "[20,   400] loss: 0.588\n",
      "[20,   600] loss: 0.581\n",
      "[21,   200] loss: 0.539\n",
      "[21,   400] loss: 0.565\n",
      "[21,   600] loss: 0.572\n",
      "[22,   200] loss: 0.529\n",
      "[22,   400] loss: 0.556\n",
      "[22,   600] loss: 0.566\n",
      "[23,   200] loss: 0.513\n",
      "[23,   400] loss: 0.541\n",
      "[23,   600] loss: 0.523\n",
      "[24,   200] loss: 0.513\n",
      "[24,   400] loss: 0.523\n",
      "[24,   600] loss: 0.526\n",
      "[25,   200] loss: 0.491\n",
      "[25,   400] loss: 0.505\n",
      "[25,   600] loss: 0.519\n",
      "Finished Training\n"
     ]
    }
   ],
   "source": [
    "# Inicializar el modelo, la función de pérdida y el optimizador\n",
    "model = CNN()\n",
    "model.to(device)\n",
    "criterion = nn.CrossEntropyLoss()\n",
    "optimizer = optim.Adam(model.parameters(), lr=0.0005)\n",
    "\n",
    "# Entrenamiento del modelo\n",
    "num_epochs = 25\n",
    "for epoch in range(num_epochs):\n",
    "    running_loss = 0.0\n",
    "    for i, data in enumerate(trainloader, 0):\n",
    "        inputs, labels = data\n",
    "        inputs = inputs.to(device)\n",
    "        labels = labels.to(device)\n",
    "        optimizer.zero_grad()\n",
    "        outputs = model(inputs)\n",
    "        loss = criterion(outputs, labels)\n",
    "        loss.backward()\n",
    "        optimizer.step()\n",
    "        running_loss += loss.item()\n",
    "        if i % 200 == 199:\n",
    "            print('[%d, %5d] loss: %.3f' % (epoch + 1, i + 1, running_loss / 200))\n",
    "            running_loss = 0.0\n",
    "\n",
    "print('Finished Training')\n",
    "\n"
   ]
  },
  {
   "cell_type": "code",
   "execution_count": 28,
   "metadata": {},
   "outputs": [
    {
     "name": "stdout",
     "output_type": "stream",
     "text": [
      "Accuracy on the test images: 72 %\n"
     ]
    }
   ],
   "source": [
    "# Evaluación del modelo\n",
    "correct = 0\n",
    "total = 0\n",
    "with torch.no_grad():\n",
    "    for i, data in enumerate(testloader, 0):\n",
    "        images, labels = data\n",
    "        images = images.to(device)\n",
    "        labels = labels.to(device)\n",
    "        outputs = model(images)\n",
    "        _, predicted = torch.max(outputs.data, 1)\n",
    "        total += labels.size(0)\n",
    "        correct += (predicted == labels).sum().item()\n",
    "\n",
    "print('Accuracy on the test images: %d %%' % (100 * correct / total))"
   ]
  }
 ],
 "metadata": {
  "kernelspec": {
   "display_name": "ML",
   "language": "python",
   "name": "python3"
  },
  "language_info": {
   "codemirror_mode": {
    "name": "ipython",
    "version": 3
   },
   "file_extension": ".py",
   "mimetype": "text/x-python",
   "name": "python",
   "nbconvert_exporter": "python",
   "pygments_lexer": "ipython3",
   "version": "3.10.12"
  }
 },
 "nbformat": 4,
 "nbformat_minor": 2
}
